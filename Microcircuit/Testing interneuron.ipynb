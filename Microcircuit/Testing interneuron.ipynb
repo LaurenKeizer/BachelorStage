{
 "cells": [
  {
   "cell_type": "markdown",
   "source": [
    "In this file we will be testing the interneuron and changing certain parameters in order to seek for change in the spiking behaviour"
   ],
   "metadata": {
    "collapsed": false
   }
  },
  {
   "cell_type": "code",
   "execution_count": 5,
   "outputs": [],
   "source": [
    "import os, sys, inspect\n",
    "current_dir = os.path.dirname(os.path.abspath(inspect.getfile(inspect.currentframe())))\n",
    "parent_dir = os.path.dirname(current_dir)\n",
    "sys.path.insert(0, parent_dir)"
   ],
   "metadata": {
    "collapsed": false
   }
  },
  {
   "cell_type": "code",
   "execution_count": 6,
   "outputs": [],
   "source": [
    "from brian2 import *\n",
    "from matplotlib import pyplot as plt\n",
    "import Documentation.parameters as p\n",
    "from Foundations.helpers import scale_input_theory, make_spiketrain\n",
    "from Foundations.MI import analyze_exp\n",
    "import pandas as pd"
   ],
   "metadata": {
    "collapsed": false
   }
  },
  {
   "cell_type": "code",
   "execution_count": 7,
   "outputs": [],
   "source": [
    "from Old_testing.make_dynamic_experiment_ori import make_dynamic_experiments\n",
    "from Old_testing.currentmodel_testingdopamine import Barrel_IN\n",
    "defaultclock = p.dt*ms"
   ],
   "metadata": {
    "collapsed": false
   }
  },
  {
   "cell_type": "code",
   "execution_count": 4,
   "outputs": [],
   "source": [
    "[input_theory, hidden_state] = make_dynamic_experiments(p.qon_qoff_type, p.baseline, p.tau, p.factor_ron_roff, p.mean_firing_rate, p.sampling_rate, p.duration)"
   ],
   "metadata": {
    "collapsed": false
   }
  },
  {
   "cell_type": "code",
   "execution_count": null,
   "outputs": [],
   "source": [],
   "metadata": {
    "collapsed": false
   }
  },
  {
   "cell_type": "code",
   "execution_count": null,
   "outputs": [],
   "source": [
    "start_scope()\n",
    "IN = Barrel_IN(p.dt, inj_current)\n",
    "namespace = IN.getNamespace()\n",
    "\n",
    "\n",
    "IN_neuron = PC.getNeurongroup()\n",
    "\n",
    "PC_M = StateMonitor(PC_neuron, 'v', record=True)\n",
    "PC_S = SpikeMonitor(PC_neuron, 'v', record = True)\n",
    "\n",
    "run(p.duration*ms)"
   ],
   "metadata": {
    "collapsed": false
   }
  }
 ],
 "metadata": {
  "kernelspec": {
   "display_name": "Python 3",
   "language": "python",
   "name": "python3"
  },
  "language_info": {
   "codemirror_mode": {
    "name": "ipython",
    "version": 2
   },
   "file_extension": ".py",
   "mimetype": "text/x-python",
   "name": "python",
   "nbconvert_exporter": "python",
   "pygments_lexer": "ipython2",
   "version": "2.7.6"
  }
 },
 "nbformat": 4,
 "nbformat_minor": 0
}
