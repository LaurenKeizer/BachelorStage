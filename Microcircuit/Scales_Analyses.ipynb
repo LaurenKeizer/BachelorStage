{
 "cells": [
  {
   "cell_type": "code",
   "execution_count": 1,
   "metadata": {
    "collapsed": true
   },
   "outputs": [],
   "source": [
    "import os, sys, inspect\n",
    "current_dir = os.path.dirname(os.path.abspath(inspect.getfile(inspect.currentframe())))\n",
    "parent_dir = os.path.dirname(current_dir)\n",
    "sys.path.insert(0, parent_dir)"
   ]
  },
  {
   "cell_type": "code",
   "execution_count": 2,
   "outputs": [],
   "source": [
    "from brian2 import *\n",
    "from matplotlib import pyplot as plt\n",
    "import Documentation.parameters as p\n",
    "from Foundations.helpers import scale_input_theory, make_spiketrain\n",
    "from Foundations.MI import analyze_exp\n",
    "import pandas as pd"
   ],
   "metadata": {
    "collapsed": false
   }
  },
  {
   "cell_type": "code",
   "execution_count": 3,
   "outputs": [],
   "source": [
    "from Old_testing.make_dynamic_experiment_ori import make_dynamic_experiments\n",
    "from Old_testing.currentmodel import Barrel_PC, Barrel_IN"
   ],
   "metadata": {
    "collapsed": false
   }
  },
  {
   "cell_type": "code",
   "execution_count": 4,
   "outputs": [],
   "source": [
    "defaultclock = p.dt*ms\n",
    "np.random.seed()\n",
    "seed = np.random.randint(1000000000)"
   ],
   "metadata": {
    "collapsed": false
   }
  },
  {
   "cell_type": "code",
   "execution_count": 5,
   "outputs": [],
   "source": [
    "[input_theory, hidden_state] = make_dynamic_experiments(p.qon_qoff_type, p.baseline, p.tau, p.factor_ron_roff, p.mean_firing_rate, p.sampling_rate, p.duration)"
   ],
   "metadata": {
    "collapsed": false
   }
  },
  {
   "cell_type": "code",
   "execution_count": 6,
   "outputs": [],
   "source": [
    "def make_input(scale):\n",
    "    return scale_input_theory(input_theory, 0, scale, p.dt)"
   ],
   "metadata": {
    "collapsed": false
   }
  },
  {
   "cell_type": "code",
   "execution_count": 7,
   "outputs": [
    {
     "ename": "NameError",
     "evalue": "name 'inj_current' is not defined",
     "output_type": "error",
     "traceback": [
      "\u001B[1;31m---------------------------------------------------------------------------\u001B[0m",
      "\u001B[1;31mNameError\u001B[0m                                 Traceback (most recent call last)",
      "Input \u001B[1;32mIn [7]\u001B[0m, in \u001B[0;36m<cell line: 2>\u001B[1;34m()\u001B[0m\n\u001B[0;32m      1\u001B[0m start_scope()\n\u001B[1;32m----> 2\u001B[0m PC \u001B[38;5;241m=\u001B[39m Barrel_PC(p\u001B[38;5;241m.\u001B[39mdt, \u001B[43minj_current\u001B[49m)\n\u001B[0;32m      4\u001B[0m PC_neuron \u001B[38;5;241m=\u001B[39m PC\u001B[38;5;241m.\u001B[39mgetNeurongroup()\n\u001B[0;32m      6\u001B[0m PC_M \u001B[38;5;241m=\u001B[39m StateMonitor(PC_neuron, \u001B[38;5;124m'\u001B[39m\u001B[38;5;124mv\u001B[39m\u001B[38;5;124m'\u001B[39m, record\u001B[38;5;241m=\u001B[39m\u001B[38;5;28;01mTrue\u001B[39;00m)\n",
      "\u001B[1;31mNameError\u001B[0m: name 'inj_current' is not defined"
     ]
    }
   ],
   "source": [
    "start_scope()\n",
    "PC = Barrel_PC(p.dt, inj_current)\n",
    "\n",
    "PC_neuron = PC.getNeurongroup()\n",
    "\n",
    "PC_M = StateMonitor(PC_neuron, 'v', record=True)\n",
    "PC_S = SpikeMonitor(PC_neuron, 'v', record = True)\n",
    "\n",
    "run(p.duration*ms)"
   ],
   "metadata": {
    "collapsed": false
   }
  },
  {
   "cell_type": "code",
   "execution_count": null,
   "outputs": [],
   "source": [
    "plot(PC_M.t / ms, PC_M.v[0], label='PC_pre')"
   ],
   "metadata": {
    "collapsed": false
   }
  }
 ],
 "metadata": {
  "kernelspec": {
   "display_name": "Python 3",
   "language": "python",
   "name": "python3"
  },
  "language_info": {
   "codemirror_mode": {
    "name": "ipython",
    "version": 2
   },
   "file_extension": ".py",
   "mimetype": "text/x-python",
   "name": "python",
   "nbconvert_exporter": "python",
   "pygments_lexer": "ipython2",
   "version": "2.7.6"
  }
 },
 "nbformat": 4,
 "nbformat_minor": 0
}
