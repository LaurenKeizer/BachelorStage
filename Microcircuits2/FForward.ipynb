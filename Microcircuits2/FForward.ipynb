{
 "cells": [
  {
   "cell_type": "code",
   "execution_count": 3,
   "metadata": {
    "collapsed": true
   },
   "outputs": [],
   "source": [
    "import os, sys, inspect\n",
    "current_dir = os.path.dirname(os.path.abspath(inspect.getfile(inspect.currentframe())))\n",
    "parent_dir = os.path.dirname(current_dir)\n",
    "sys.path.insert(0, parent_dir)\n",
    "\n",
    "from brian2 import *\n",
    "from matplotlib import pyplot as plt\n",
    "import Documentation.parameters as p\n",
    "from Foundations.helpers import scale_input_theory, make_spiketrain\n",
    "\n",
    "from Foundations.MI import analyze_exp\n",
    "from Old_testing.make_dynamic_experiment_ori import make_dynamic_experiments\n",
    "from Old_testing.currentmodel import Barrel_PC, Barrel_IN\n",
    "import pandas as pd\n",
    "\n",
    "defaultclock = p.dt*ms"
   ]
  },
  {
   "cell_type": "code",
   "execution_count": 4,
   "outputs": [
    {
     "ename": "TypeError",
     "evalue": "Cannot cast scalar from dtype('O') to dtype('int64') according to the rule 'safe'",
     "output_type": "error",
     "traceback": [
      "\u001B[1;31m---------------------------------------------------------------------------\u001B[0m",
      "\u001B[1;31mTypeError\u001B[0m                                 Traceback (most recent call last)",
      "File \u001B[1;32m_mt19937.pyx:178\u001B[0m, in \u001B[0;36mnumpy.random._mt19937.MT19937._legacy_seeding\u001B[1;34m()\u001B[0m\n",
      "\u001B[1;31mTypeError\u001B[0m: 'function' object cannot be interpreted as an integer",
      "\nDuring handling of the above exception, another exception occurred:\n",
      "\u001B[1;31mTypeError\u001B[0m                                 Traceback (most recent call last)",
      "Input \u001B[1;32mIn [4]\u001B[0m, in \u001B[0;36m<cell line: 1>\u001B[1;34m()\u001B[0m\n\u001B[1;32m----> 1\u001B[0m [input_theory, hidden_state] \u001B[38;5;241m=\u001B[39m \u001B[43mmake_dynamic_experiments\u001B[49m\u001B[43m(\u001B[49m\u001B[43mp\u001B[49m\u001B[38;5;241;43m.\u001B[39;49m\u001B[43mqon_qoff_type\u001B[49m\u001B[43m,\u001B[49m\u001B[43m \u001B[49m\u001B[43mp\u001B[49m\u001B[38;5;241;43m.\u001B[39;49m\u001B[43mbaseline\u001B[49m\u001B[43m,\u001B[49m\u001B[43m \u001B[49m\u001B[43mp\u001B[49m\u001B[38;5;241;43m.\u001B[39;49m\u001B[43mtau\u001B[49m\u001B[43m,\u001B[49m\u001B[43m \u001B[49m\u001B[43mp\u001B[49m\u001B[38;5;241;43m.\u001B[39;49m\u001B[43mfactor_ron_roff\u001B[49m\u001B[43m,\u001B[49m\u001B[43m \u001B[49m\u001B[43mp\u001B[49m\u001B[38;5;241;43m.\u001B[39;49m\u001B[43mmean_firing_rate\u001B[49m\u001B[43m,\u001B[49m\u001B[43m \u001B[49m\u001B[43mp\u001B[49m\u001B[38;5;241;43m.\u001B[39;49m\u001B[43msampling_rate\u001B[49m\u001B[43m,\u001B[49m\u001B[43m \u001B[49m\u001B[43mp\u001B[49m\u001B[38;5;241;43m.\u001B[39;49m\u001B[43mduration\u001B[49m\u001B[43m,\u001B[49m\u001B[43m \u001B[49m\u001B[43mseed\u001B[49m\u001B[43m)\u001B[49m\n",
      "File \u001B[1;32m~\\DataspellProjects\\BacherlorStage\\Old_testing\\make_dynamic_experiment_ori.py:78\u001B[0m, in \u001B[0;36mmake_dynamic_experiments\u001B[1;34m(qon_qoff_type, baseline, tau, factor_ron_roff, mean_firing_rate, sampling_rate, duration, seed, hidden)\u001B[0m\n\u001B[0;32m     76\u001B[0m     [input_bayes\u001B[38;5;241m.\u001B[39mqon, input_bayes\u001B[38;5;241m.\u001B[39mqoff] \u001B[38;5;241m=\u001B[39m input_bayes\u001B[38;5;241m.\u001B[39mcreate_qonqoff(mutheta, N, alphan, regime, seed)\n\u001B[0;32m     77\u001B[0m \u001B[38;5;28;01melif\u001B[39;00m qon_qoff_type \u001B[38;5;241m==\u001B[39m \u001B[38;5;124m'\u001B[39m\u001B[38;5;124mbalanced\u001B[39m\u001B[38;5;124m'\u001B[39m:\n\u001B[1;32m---> 78\u001B[0m     [input_bayes\u001B[38;5;241m.\u001B[39mqon, input_bayes\u001B[38;5;241m.\u001B[39mqoff] \u001B[38;5;241m=\u001B[39m \u001B[43minput_bayes\u001B[49m\u001B[38;5;241;43m.\u001B[39;49m\u001B[43mcreate_qonqoff_balanced\u001B[49m\u001B[43m(\u001B[49m\u001B[43mN\u001B[49m\u001B[43m,\u001B[49m\u001B[43m \u001B[49m\u001B[43mmean_firing_rate\u001B[49m\u001B[43m,\u001B[49m\u001B[43m \u001B[49m\u001B[43mstdq\u001B[49m\u001B[43m,\u001B[49m\u001B[43m \u001B[49m\u001B[43mseed\u001B[49m\u001B[43m)\u001B[49m\n\u001B[0;32m     79\u001B[0m \u001B[38;5;28;01melif\u001B[39;00m qon_qoff_type \u001B[38;5;241m==\u001B[39m \u001B[38;5;124m'\u001B[39m\u001B[38;5;124mbalanced_uniform\u001B[39m\u001B[38;5;124m'\u001B[39m:\n\u001B[0;32m     80\u001B[0m     minq \u001B[38;5;241m=\u001B[39m \u001B[38;5;241m10\u001B[39m\n",
      "File \u001B[1;32m~\\DataspellProjects\\BacherlorStage\\Old_testing\\input_ori.py:158\u001B[0m, in \u001B[0;36mInput.create_qonqoff_balanced\u001B[1;34m(N, meanq, stdq, qseed)\u001B[0m\n\u001B[0;32m    144\u001B[0m \u001B[38;5;124;03m''' Generates normally distributed [qon, qoff] with qon and qoff\u001B[39;00m\n\u001B[0;32m    145\u001B[0m \u001B[38;5;124;03m    being a matrix filled with the firing rate of each neuron based\u001B[39;00m\n\u001B[0;32m    146\u001B[0m \u001B[38;5;124;03m    on the hidden state.\u001B[39;00m\n\u001B[1;32m   (...)\u001B[0m\n\u001B[0;32m    155\u001B[0m \u001B[38;5;124;03m    [qon, qoff]: array containing the firing rates of the neurons during both states\u001B[39;00m\n\u001B[0;32m    156\u001B[0m \u001B[38;5;124;03m'''\u001B[39;00m\n\u001B[0;32m    157\u001B[0m \u001B[38;5;66;03m# Sample qon and qoff from a rng.\u001B[39;00m\n\u001B[1;32m--> 158\u001B[0m \u001B[43mnp\u001B[49m\u001B[38;5;241;43m.\u001B[39;49m\u001B[43mrandom\u001B[49m\u001B[38;5;241;43m.\u001B[39;49m\u001B[43mseed\u001B[49m\u001B[43m(\u001B[49m\u001B[43mqseed\u001B[49m\u001B[43m)\u001B[49m\n\u001B[0;32m    159\u001B[0m qoff \u001B[38;5;241m=\u001B[39m np\u001B[38;5;241m.\u001B[39mrandom\u001B[38;5;241m.\u001B[39mrandn(N, \u001B[38;5;241m1\u001B[39m)\n\u001B[0;32m    160\u001B[0m qon \u001B[38;5;241m=\u001B[39m np\u001B[38;5;241m.\u001B[39mrandom\u001B[38;5;241m.\u001B[39mrandn(N, \u001B[38;5;241m1\u001B[39m)\n",
      "File \u001B[1;32mmtrand.pyx:246\u001B[0m, in \u001B[0;36mnumpy.random.mtrand.RandomState.seed\u001B[1;34m()\u001B[0m\n",
      "File \u001B[1;32m_mt19937.pyx:166\u001B[0m, in \u001B[0;36mnumpy.random._mt19937.MT19937._legacy_seeding\u001B[1;34m()\u001B[0m\n",
      "File \u001B[1;32m_mt19937.pyx:186\u001B[0m, in \u001B[0;36mnumpy.random._mt19937.MT19937._legacy_seeding\u001B[1;34m()\u001B[0m\n",
      "\u001B[1;31mTypeError\u001B[0m: Cannot cast scalar from dtype('O') to dtype('int64') according to the rule 'safe'"
     ]
    }
   ],
   "source": [
    "[input_theory, hidden_state] = make_dynamic_experiments(p.qon_qoff_type, p.baseline, p.tau, p.factor_ron_roff, p.mean_firing_rate, p.sampling_rate, p.duration, seed)"
   ],
   "metadata": {
    "collapsed": false
   }
  },
  {
   "cell_type": "code",
   "execution_count": null,
   "outputs": [],
   "source": [
    "\n",
    "\n",
    "inj_current = scale_input_theory(input_theory, 0, scale, p.dt)\n",
    "\n",
    "start_scope()\n",
    "#Initialising the neuron classes\n",
    "PC = Barrel_PC(p.dt, inj_current)\n",
    "IN = Barrel_IN(p.dt, inj_current)\n",
    "#Getting the neuron groups\n",
    "PC_neuron = PC.getNeurongroup()\n",
    "IN_neuron = IN.getNeurongroup()\n",
    "\n",
    "net2 = Network(PC_neuron,\n",
    "               IN_neuron)\n",
    "\n",
    "PC_M = StateMonitor(PC_neuron, 'v', record=True)\n",
    "PC_S = SpikeMonitor(PC_neuron, 'v', record = True)\n",
    "IN_M = StateMonitor(IN_neuron, 'v', record=True)\n",
    "IN_S = SpikeMonitor(PC_neuron, 'v', record = True)\n",
    "\n",
    "net2.add(PC_M, IN_M, PC_S, IN_S)\n",
    "#getting all the parameters for in the synapse\n",
    "delay = 0.6\n",
    "\n",
    "syn2 = Synapses(IN_neuron, PC_neuron, on_pre='''v_post += -w1*mV''', delay= delay*ms, dt=p.dt * ms)\n",
    "syn2.connect(i=0, j=1)\n",
    "net2.add(syn2)\n",
    "\n",
    "net2.store()\n",
    "\n",
    "output_PC = pd.DataFrame()\n",
    "output_IN = pd.DataFrame()\n",
    "samples = p.duration/p.dt\n",
    "\n",
    "for w1 in weights:\n",
    "    net2.restore()\n",
    "    w1 = w1\n",
    "    net2.run(p.duration*ms)\n",
    "    plotting(PC_M, IN_M, w1, scale)\n",
    "    spiketrain = make_spiketrain(PC_S)\n",
    "    output_PC = pd.concat([output_PC, analyze_exp(hidden_state, input_theory,0, spiketrain,samples, w1, scale)], axis = 0)\n",
    "    output_IN = pd.concat([output_IN, analyze_exp(hidden_state, input_theory,0, spiketrain,samples, w1, scale)], axis = 0)\n",
    "\n",
    "return output_PC, output_IN, spiketrain"
   ],
   "metadata": {
    "collapsed": false
   }
  }
 ],
 "metadata": {
  "kernelspec": {
   "display_name": "Python 3",
   "language": "python",
   "name": "python3"
  },
  "language_info": {
   "codemirror_mode": {
    "name": "ipython",
    "version": 2
   },
   "file_extension": ".py",
   "mimetype": "text/x-python",
   "name": "python",
   "nbconvert_exporter": "python",
   "pygments_lexer": "ipython2",
   "version": "2.7.6"
  }
 },
 "nbformat": 4,
 "nbformat_minor": 0
}
