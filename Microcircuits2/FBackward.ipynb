{
 "cells": [
  {
   "cell_type": "markdown",
   "source": [
    "## The forward model\n"
   ],
   "metadata": {
    "collapsed": false
   }
  },
  {
   "cell_type": "code",
   "execution_count": 1,
   "outputs": [
    {
     "name": "stderr",
     "output_type": "stream",
     "text": [
      "INFO       Cache size for target \"cython\": 1540 MB.\n",
      "You can call \"clear_cache('cython')\" to delete all files from the cache or manually delete files in the \"C:\\Users\\laure\\.cython\\brian_extensions\" directory. [brian2]\n"
     ]
    }
   ],
   "source": [
    "import os, sys, inspect\n",
    "current_dir = os.path.dirname(os.path.abspath(inspect.getfile(inspect.currentframe())))\n",
    "parent_dir = os.path.dirname(current_dir)\n",
    "sys.path.insert(0, parent_dir)\n",
    "\n",
    "from brian2 import *\n",
    "from matplotlib import pyplot as plt\n",
    "import Documentation.parameters as p\n",
    "from Foundations.helpers import scale_input_theory, make_spiketrain\n",
    "\n",
    "from Foundations.MI import analyze_exp\n",
    "from Old_testing.make_dynamic_experiment_parameters import make_dynamic_experiments\n",
    "from Old_testing.currentmodel import Barrel_PC, Barrel_IN\n",
    "import pandas as pd\n",
    "\n",
    "defaultclock = p.dt*ms"
   ],
   "metadata": {
    "collapsed": false
   }
  },
  {
   "cell_type": "code",
   "execution_count": null,
   "outputs": [],
   "source": [
    "from brian2 import *\n",
    "import Documentation.parameters as p\n",
    "\n",
    "from matplotlib import pyplot as plt\n",
    "import seaborn as sns\n",
    "import pandas as pd\n",
    "\n",
    "defaultclock = p.dt*ms"
   ],
   "metadata": {
    "collapsed": false
   }
  },
  {
   "cell_type": "code",
   "execution_count": null,
   "outputs": [],
   "source": [
    "[input_theory, hidden_state] = make_dynamic_experiments(p.qon_qoff_type, p.duration, p.seed)\n",
    "\n",
    "inj_current = scale_input_theory(input_theory, 0, 17, p.dt)"
   ],
   "metadata": {
    "collapsed": false
   }
  },
  {
   "cell_type": "code",
   "execution_count": null,
   "outputs": [],
   "source": [
    "size(inj_current)\n",
    "size(hidden_state)\n",
    "weights = [14,15]\n",
    "scale=17"
   ],
   "metadata": {
    "collapsed": false
   }
  },
  {
   "cell_type": "code",
   "execution_count": null,
   "outputs": [
    {
     "name": "stderr",
     "output_type": "stream",
     "text": [
      "WARNING    C:\\ProgramData\\Anaconda3\\envs\\stage\\lib\\site-packages\\brian2\\units\\fundamentalunits.py:2262: SyntaxWarning: \"is\" with a literal. Did you mean \"==\"?\n",
      "  if d is 1 or d is DIMENSIONLESS:\n",
      " [py.warnings]\n",
      "WARNING    C:\\ProgramData\\Anaconda3\\envs\\stage\\lib\\site-packages\\brian2\\units\\fundamentalunits.py:2262: SyntaxWarning: \"is\" with a literal. Did you mean \"==\"?\n",
      "  if d is 1 or d is DIMENSIONLESS:\n",
      " [py.warnings]\n"
     ]
    },
    {
     "ename": "BrianObjectException",
     "evalue": "Original error and traceback:\nTraceback (most recent call last):\n  File \"C:\\ProgramData\\Anaconda3\\envs\\stage\\lib\\site-packages\\brian2\\core\\network.py\", line 901, in before_run\n    obj.before_run(run_namespace)\n  File \"C:\\ProgramData\\Anaconda3\\envs\\stage\\lib\\site-packages\\brian2\\core\\base.py\", line 280, in device_override_decorated_function\n    return func(*args, **kwds)\n  File \"C:\\ProgramData\\Anaconda3\\envs\\stage\\lib\\site-packages\\brian2\\synapses\\synapses.py\", line 319, in before_run\n    CodeRunner.before_run(self, run_namespace)\n  File \"C:\\ProgramData\\Anaconda3\\envs\\stage\\lib\\site-packages\\brian2\\groups\\group.py\", line 1122, in before_run\n    self.codeobj = create_runner_codeobj(group=self.group,\n  File \"C:\\ProgramData\\Anaconda3\\envs\\stage\\lib\\site-packages\\brian2\\codegen\\codeobject.py\", line 321, in create_runner_codeobj\n    variables = group.resolve_all(identifiers | set(needed_variables) | set(template_variables),\n  File \"C:\\ProgramData\\Anaconda3\\envs\\stage\\lib\\site-packages\\brian2\\groups\\group.py\", line 741, in resolve_all\n    resolved[identifier] = self._resolve(identifier,\n  File \"C:\\ProgramData\\Anaconda3\\envs\\stage\\lib\\site-packages\\brian2\\groups\\group.py\", line 701, in _resolve\n    return self._resolve_external(identifier, run_namespace=run_namespace)\n  File \"C:\\ProgramData\\Anaconda3\\envs\\stage\\lib\\site-packages\\brian2\\groups\\group.py\", line 825, in _resolve_external\n    raise KeyError(error_msg)\nKeyError: 'The identifier \"w1\" could not be resolved.'\n\nError encountered with object named \"synapses_pre\".\nObject was created here (most recent call only, full details in debug log):\n  File \"C:\\Users\\laure\\AppData\\Local\\Temp\\ipykernel_16532\\3055027482.py\", line 21, in <cell line: 21>\n    syn2 = Synapses(IN_neuron, PC_neuron, on_pre='''v_post += -w1*mV''', delay= delay*ms, dt=p.dt * ms)\n\nAn error occurred when preparing an object. KeyError: 'The identifier \"w1\" could not be resolved.'\n(See above for original error message and traceback.)",
     "output_type": "error",
     "traceback": [
      "\u001B[1;31m---------------------------------------------------------------------------\u001B[0m",
      "\u001B[1;31mKeyError\u001B[0m                                  Traceback (most recent call last)",
      "File \u001B[1;32mC:\\ProgramData\\Anaconda3\\envs\\stage\\lib\\site-packages\\brian2\\core\\network.py:901\u001B[0m, in \u001B[0;36mNetwork.before_run\u001B[1;34m(self, run_namespace)\u001B[0m\n\u001B[0;32m    900\u001B[0m \u001B[38;5;28;01mtry\u001B[39;00m:\n\u001B[1;32m--> 901\u001B[0m     \u001B[43mobj\u001B[49m\u001B[38;5;241;43m.\u001B[39;49m\u001B[43mbefore_run\u001B[49m\u001B[43m(\u001B[49m\u001B[43mrun_namespace\u001B[49m\u001B[43m)\u001B[49m\n\u001B[0;32m    902\u001B[0m \u001B[38;5;28;01mexcept\u001B[39;00m \u001B[38;5;167;01mException\u001B[39;00m \u001B[38;5;28;01mas\u001B[39;00m ex:\n",
      "File \u001B[1;32mC:\\ProgramData\\Anaconda3\\envs\\stage\\lib\\site-packages\\brian2\\core\\base.py:280\u001B[0m, in \u001B[0;36mdevice_override.<locals>.device_override_decorator.<locals>.device_override_decorated_function\u001B[1;34m(*args, **kwds)\u001B[0m\n\u001B[0;32m    279\u001B[0m \u001B[38;5;28;01melse\u001B[39;00m:\n\u001B[1;32m--> 280\u001B[0m     \u001B[38;5;28;01mreturn\u001B[39;00m \u001B[43mfunc\u001B[49m\u001B[43m(\u001B[49m\u001B[38;5;241;43m*\u001B[39;49m\u001B[43margs\u001B[49m\u001B[43m,\u001B[49m\u001B[43m \u001B[49m\u001B[38;5;241;43m*\u001B[39;49m\u001B[38;5;241;43m*\u001B[39;49m\u001B[43mkwds\u001B[49m\u001B[43m)\u001B[49m\n",
      "File \u001B[1;32mC:\\ProgramData\\Anaconda3\\envs\\stage\\lib\\site-packages\\brian2\\synapses\\synapses.py:319\u001B[0m, in \u001B[0;36mSynapticPathway.before_run\u001B[1;34m(self, run_namespace)\u001B[0m\n\u001B[0;32m    318\u001B[0m \u001B[38;5;28mself\u001B[39m\u001B[38;5;241m.\u001B[39m_initialise_queue_codeobj()\n\u001B[1;32m--> 319\u001B[0m \u001B[43mCodeRunner\u001B[49m\u001B[38;5;241;43m.\u001B[39;49m\u001B[43mbefore_run\u001B[49m\u001B[43m(\u001B[49m\u001B[38;5;28;43mself\u001B[39;49m\u001B[43m,\u001B[49m\u001B[43m \u001B[49m\u001B[43mrun_namespace\u001B[49m\u001B[43m)\u001B[49m\n\u001B[0;32m    321\u001B[0m \u001B[38;5;66;03m# we insert rather than replace because CodeRunner puts a CodeObject in updaters already\u001B[39;00m\n",
      "File \u001B[1;32mC:\\ProgramData\\Anaconda3\\envs\\stage\\lib\\site-packages\\brian2\\groups\\group.py:1122\u001B[0m, in \u001B[0;36mCodeRunner.before_run\u001B[1;34m(self, run_namespace)\u001B[0m\n\u001B[0;32m   1121\u001B[0m \u001B[38;5;28;01melse\u001B[39;00m:\n\u001B[1;32m-> 1122\u001B[0m     \u001B[38;5;28mself\u001B[39m\u001B[38;5;241m.\u001B[39mcodeobj \u001B[38;5;241m=\u001B[39m \u001B[43mcreate_runner_codeobj\u001B[49m\u001B[43m(\u001B[49m\u001B[43mgroup\u001B[49m\u001B[38;5;241;43m=\u001B[39;49m\u001B[38;5;28;43mself\u001B[39;49m\u001B[38;5;241;43m.\u001B[39;49m\u001B[43mgroup\u001B[49m\u001B[43m,\u001B[49m\n\u001B[0;32m   1123\u001B[0m \u001B[43m                                         \u001B[49m\u001B[43mcode\u001B[49m\u001B[38;5;241;43m=\u001B[39;49m\u001B[38;5;28;43mself\u001B[39;49m\u001B[38;5;241;43m.\u001B[39;49m\u001B[43mabstract_code\u001B[49m\u001B[43m,\u001B[49m\n\u001B[0;32m   1124\u001B[0m \u001B[43m                                         \u001B[49m\u001B[43muser_code\u001B[49m\u001B[38;5;241;43m=\u001B[39;49m\u001B[38;5;28;43mself\u001B[39;49m\u001B[38;5;241;43m.\u001B[39;49m\u001B[43muser_code\u001B[49m\u001B[43m,\u001B[49m\n\u001B[0;32m   1125\u001B[0m \u001B[43m                                         \u001B[49m\u001B[43mtemplate_name\u001B[49m\u001B[38;5;241;43m=\u001B[39;49m\u001B[38;5;28;43mself\u001B[39;49m\u001B[38;5;241;43m.\u001B[39;49m\u001B[43mtemplate\u001B[49m\u001B[43m,\u001B[49m\n\u001B[0;32m   1126\u001B[0m \u001B[43m                                         \u001B[49m\u001B[43mname\u001B[49m\u001B[38;5;241;43m=\u001B[39;49m\u001B[38;5;28;43mself\u001B[39;49m\u001B[38;5;241;43m.\u001B[39;49m\u001B[43mname\u001B[49m\u001B[38;5;241;43m+\u001B[39;49m\u001B[38;5;124;43m'\u001B[39;49m\u001B[38;5;124;43m_codeobject*\u001B[39;49m\u001B[38;5;124;43m'\u001B[39;49m\u001B[43m,\u001B[49m\n\u001B[0;32m   1127\u001B[0m \u001B[43m                                         \u001B[49m\u001B[43mcheck_units\u001B[49m\u001B[38;5;241;43m=\u001B[39;49m\u001B[38;5;28;43mself\u001B[39;49m\u001B[38;5;241;43m.\u001B[39;49m\u001B[43mcheck_units\u001B[49m\u001B[43m,\u001B[49m\n\u001B[0;32m   1128\u001B[0m \u001B[43m                                         \u001B[49m\u001B[43madditional_variables\u001B[49m\u001B[38;5;241;43m=\u001B[39;49m\u001B[43madditional_variables\u001B[49m\u001B[43m,\u001B[49m\n\u001B[0;32m   1129\u001B[0m \u001B[43m                                         \u001B[49m\u001B[43mneeded_variables\u001B[49m\u001B[38;5;241;43m=\u001B[39;49m\u001B[38;5;28;43mself\u001B[39;49m\u001B[38;5;241;43m.\u001B[39;49m\u001B[43mneeded_variables\u001B[49m\u001B[43m,\u001B[49m\n\u001B[0;32m   1130\u001B[0m \u001B[43m                                         \u001B[49m\u001B[43mrun_namespace\u001B[49m\u001B[38;5;241;43m=\u001B[39;49m\u001B[43mrun_namespace\u001B[49m\u001B[43m,\u001B[49m\n\u001B[0;32m   1131\u001B[0m \u001B[43m                                         \u001B[49m\u001B[43mtemplate_kwds\u001B[49m\u001B[38;5;241;43m=\u001B[39;49m\u001B[38;5;28;43mself\u001B[39;49m\u001B[38;5;241;43m.\u001B[39;49m\u001B[43mtemplate_kwds\u001B[49m\u001B[43m,\u001B[49m\n\u001B[0;32m   1132\u001B[0m \u001B[43m                                         \u001B[49m\u001B[43moverride_conditional_write\u001B[49m\u001B[38;5;241;43m=\u001B[39;49m\u001B[38;5;28;43mself\u001B[39;49m\u001B[38;5;241;43m.\u001B[39;49m\u001B[43moverride_conditional_write\u001B[49m\u001B[43m,\u001B[49m\n\u001B[0;32m   1133\u001B[0m \u001B[43m                                         \u001B[49m\u001B[43mcodeobj_class\u001B[49m\u001B[38;5;241;43m=\u001B[39;49m\u001B[38;5;28;43mself\u001B[39;49m\u001B[38;5;241;43m.\u001B[39;49m\u001B[43mcodeobj_class\u001B[49m\n\u001B[0;32m   1134\u001B[0m \u001B[43m                                         \u001B[49m\u001B[43m)\u001B[49m\n\u001B[0;32m   1135\u001B[0m     \u001B[38;5;28mself\u001B[39m\u001B[38;5;241m.\u001B[39mcode_objects[:] \u001B[38;5;241m=\u001B[39m [weakref\u001B[38;5;241m.\u001B[39mproxy(\u001B[38;5;28mself\u001B[39m\u001B[38;5;241m.\u001B[39mcodeobj)]\n",
      "File \u001B[1;32mC:\\ProgramData\\Anaconda3\\envs\\stage\\lib\\site-packages\\brian2\\codegen\\codeobject.py:321\u001B[0m, in \u001B[0;36mcreate_runner_codeobj\u001B[1;34m(group, code, template_name, run_namespace, user_code, variable_indices, name, check_units, needed_variables, additional_variables, template_kwds, override_conditional_write, codeobj_class)\u001B[0m\n\u001B[0;32m    319\u001B[0m \u001B[38;5;66;03m# Resolve all variables (variables used in the code and variables needed by\u001B[39;00m\n\u001B[0;32m    320\u001B[0m \u001B[38;5;66;03m# the template)\u001B[39;00m\n\u001B[1;32m--> 321\u001B[0m variables \u001B[38;5;241m=\u001B[39m \u001B[43mgroup\u001B[49m\u001B[38;5;241;43m.\u001B[39;49m\u001B[43mresolve_all\u001B[49m\u001B[43m(\u001B[49m\u001B[43midentifiers\u001B[49m\u001B[43m \u001B[49m\u001B[38;5;241;43m|\u001B[39;49m\u001B[43m \u001B[49m\u001B[38;5;28;43mset\u001B[39;49m\u001B[43m(\u001B[49m\u001B[43mneeded_variables\u001B[49m\u001B[43m)\u001B[49m\u001B[43m \u001B[49m\u001B[38;5;241;43m|\u001B[39;49m\u001B[43m \u001B[49m\u001B[38;5;28;43mset\u001B[39;49m\u001B[43m(\u001B[49m\u001B[43mtemplate_variables\u001B[49m\u001B[43m)\u001B[49m\u001B[43m,\u001B[49m\n\u001B[0;32m    322\u001B[0m \u001B[43m                              \u001B[49m\u001B[38;5;66;43;03m# template variables are not known to the user:\u001B[39;49;00m\n\u001B[0;32m    323\u001B[0m \u001B[43m                              \u001B[49m\u001B[43muser_identifiers\u001B[49m\u001B[38;5;241;43m=\u001B[39;49m\u001B[43muser_identifiers\u001B[49m\u001B[43m,\u001B[49m\n\u001B[0;32m    324\u001B[0m \u001B[43m                              \u001B[49m\u001B[43madditional_variables\u001B[49m\u001B[38;5;241;43m=\u001B[39;49m\u001B[43madditional_variables\u001B[49m\u001B[43m,\u001B[49m\n\u001B[0;32m    325\u001B[0m \u001B[43m                              \u001B[49m\u001B[43mrun_namespace\u001B[49m\u001B[38;5;241;43m=\u001B[39;49m\u001B[43mrun_namespace\u001B[49m\u001B[43m)\u001B[49m\n\u001B[0;32m    326\u001B[0m \u001B[38;5;66;03m# We raise this error only now, because there is some non-obvious code path\u001B[39;00m\n\u001B[0;32m    327\u001B[0m \u001B[38;5;66;03m# where Jinja tries to get a Synapse's \"name\" attribute via syn['name'],\u001B[39;00m\n\u001B[0;32m    328\u001B[0m \u001B[38;5;66;03m# which then triggers the use of the `group_get_indices` template which does\u001B[39;00m\n\u001B[0;32m    329\u001B[0m \u001B[38;5;66;03m# not exist for standalone. Putting the check for template == None here\u001B[39;00m\n\u001B[0;32m    330\u001B[0m \u001B[38;5;66;03m# means we will first raise an error about the unknown identifier which will\u001B[39;00m\n\u001B[0;32m    331\u001B[0m \u001B[38;5;66;03m# then make Jinja try syn.name\u001B[39;00m\n",
      "File \u001B[1;32mC:\\ProgramData\\Anaconda3\\envs\\stage\\lib\\site-packages\\brian2\\groups\\group.py:741\u001B[0m, in \u001B[0;36mGroup.resolve_all\u001B[1;34m(self, identifiers, run_namespace, user_identifiers, additional_variables)\u001B[0m\n\u001B[0;32m    740\u001B[0m \u001B[38;5;28;01mfor\u001B[39;00m identifier \u001B[38;5;129;01min\u001B[39;00m identifiers:\n\u001B[1;32m--> 741\u001B[0m     resolved[identifier] \u001B[38;5;241m=\u001B[39m \u001B[38;5;28;43mself\u001B[39;49m\u001B[38;5;241;43m.\u001B[39;49m\u001B[43m_resolve\u001B[49m\u001B[43m(\u001B[49m\u001B[43midentifier\u001B[49m\u001B[43m,\u001B[49m\n\u001B[0;32m    742\u001B[0m \u001B[43m                                         \u001B[49m\u001B[43muser_identifier\u001B[49m\u001B[38;5;241;43m=\u001B[39;49m\u001B[43midentifier\u001B[49m\u001B[43m \u001B[49m\u001B[38;5;129;43;01min\u001B[39;49;00m\u001B[43m \u001B[49m\u001B[43muser_identifiers\u001B[49m\u001B[43m,\u001B[49m\n\u001B[0;32m    743\u001B[0m \u001B[43m                                         \u001B[49m\u001B[43madditional_variables\u001B[49m\u001B[38;5;241;43m=\u001B[39;49m\u001B[43madditional_variables\u001B[49m\u001B[43m,\u001B[49m\n\u001B[0;32m    744\u001B[0m \u001B[43m                                         \u001B[49m\u001B[43mrun_namespace\u001B[49m\u001B[38;5;241;43m=\u001B[39;49m\u001B[43mrun_namespace\u001B[49m\u001B[43m)\u001B[49m\n\u001B[0;32m    745\u001B[0m \u001B[38;5;28;01mreturn\u001B[39;00m resolved\n",
      "File \u001B[1;32mC:\\ProgramData\\Anaconda3\\envs\\stage\\lib\\site-packages\\brian2\\groups\\group.py:701\u001B[0m, in \u001B[0;36mGroup._resolve\u001B[1;34m(self, identifier, run_namespace, user_identifier, additional_variables)\u001B[0m\n\u001B[0;32m    699\u001B[0m \u001B[38;5;66;03m# We did not find the name internally, try to resolve it in the external\u001B[39;00m\n\u001B[0;32m    700\u001B[0m \u001B[38;5;66;03m# namespace\u001B[39;00m\n\u001B[1;32m--> 701\u001B[0m \u001B[38;5;28;01mreturn\u001B[39;00m \u001B[38;5;28;43mself\u001B[39;49m\u001B[38;5;241;43m.\u001B[39;49m\u001B[43m_resolve_external\u001B[49m\u001B[43m(\u001B[49m\u001B[43midentifier\u001B[49m\u001B[43m,\u001B[49m\u001B[43m \u001B[49m\u001B[43mrun_namespace\u001B[49m\u001B[38;5;241;43m=\u001B[39;49m\u001B[43mrun_namespace\u001B[49m\u001B[43m)\u001B[49m\n",
      "File \u001B[1;32mC:\\ProgramData\\Anaconda3\\envs\\stage\\lib\\site-packages\\brian2\\groups\\group.py:825\u001B[0m, in \u001B[0;36mGroup._resolve_external\u001B[1;34m(self, identifier, run_namespace, user_identifier, internal_variable)\u001B[0m\n\u001B[0;32m    823\u001B[0m             error_msg \u001B[38;5;241m=\u001B[39m (\u001B[38;5;124m'\u001B[39m\u001B[38;5;124mThe identifier \u001B[39m\u001B[38;5;124m\"\u001B[39m\u001B[38;5;132;01m%s\u001B[39;00m\u001B[38;5;124m\"\u001B[39m\u001B[38;5;124m could not be resolved.\u001B[39m\u001B[38;5;124m'\u001B[39m \u001B[38;5;241m%\u001B[39m\n\u001B[0;32m    824\u001B[0m                          identifier)\n\u001B[1;32m--> 825\u001B[0m         \u001B[38;5;28;01mraise\u001B[39;00m \u001B[38;5;167;01mKeyError\u001B[39;00m(error_msg)\n\u001B[0;32m    827\u001B[0m \u001B[38;5;28;01melif\u001B[39;00m \u001B[38;5;28mlen\u001B[39m(matches) \u001B[38;5;241m>\u001B[39m \u001B[38;5;241m1\u001B[39m:\n\u001B[0;32m    828\u001B[0m     \u001B[38;5;66;03m# Possibly, all matches refer to the same object\u001B[39;00m\n",
      "\u001B[1;31mKeyError\u001B[0m: 'The identifier \"w1\" could not be resolved.'",
      "\nDuring handling of the above exception, another exception occurred:\n",
      "\u001B[1;31mBrianObjectException\u001B[0m                      Traceback (most recent call last)",
      "Input \u001B[1;32mIn [5]\u001B[0m, in \u001B[0;36m<cell line: 25>\u001B[1;34m()\u001B[0m\n\u001B[0;32m     22\u001B[0m syn2\u001B[38;5;241m.\u001B[39mconnect(i\u001B[38;5;241m=\u001B[39m\u001B[38;5;241m0\u001B[39m, j\u001B[38;5;241m=\u001B[39m\u001B[38;5;241m1\u001B[39m)\n\u001B[0;32m     23\u001B[0m net2\u001B[38;5;241m.\u001B[39madd(syn2)\n\u001B[1;32m---> 25\u001B[0m \u001B[43mnet2\u001B[49m\u001B[38;5;241;43m.\u001B[39;49m\u001B[43mrun\u001B[49m\u001B[43m(\u001B[49m\u001B[43mp\u001B[49m\u001B[38;5;241;43m.\u001B[39;49m\u001B[43mduration\u001B[49m\u001B[38;5;241;43m*\u001B[39;49m\u001B[43mms\u001B[49m\u001B[43m)\u001B[49m\n",
      "File \u001B[1;32mC:\\ProgramData\\Anaconda3\\envs\\stage\\lib\\site-packages\\brian2\\core\\base.py:280\u001B[0m, in \u001B[0;36mdevice_override.<locals>.device_override_decorator.<locals>.device_override_decorated_function\u001B[1;34m(*args, **kwds)\u001B[0m\n\u001B[0;32m    278\u001B[0m     \u001B[38;5;28;01mreturn\u001B[39;00m \u001B[38;5;28mgetattr\u001B[39m(curdev, name)(\u001B[38;5;241m*\u001B[39margs, \u001B[38;5;241m*\u001B[39m\u001B[38;5;241m*\u001B[39mkwds)\n\u001B[0;32m    279\u001B[0m \u001B[38;5;28;01melse\u001B[39;00m:\n\u001B[1;32m--> 280\u001B[0m     \u001B[38;5;28;01mreturn\u001B[39;00m \u001B[43mfunc\u001B[49m\u001B[43m(\u001B[49m\u001B[38;5;241;43m*\u001B[39;49m\u001B[43margs\u001B[49m\u001B[43m,\u001B[49m\u001B[43m \u001B[49m\u001B[38;5;241;43m*\u001B[39;49m\u001B[38;5;241;43m*\u001B[39;49m\u001B[43mkwds\u001B[49m\u001B[43m)\u001B[49m\n",
      "File \u001B[1;32mC:\\ProgramData\\Anaconda3\\envs\\stage\\lib\\site-packages\\brian2\\units\\fundamentalunits.py:2392\u001B[0m, in \u001B[0;36mcheck_units.<locals>.do_check_units.<locals>.new_f\u001B[1;34m(*args, **kwds)\u001B[0m\n\u001B[0;32m   2383\u001B[0m             error_message \u001B[38;5;241m=\u001B[39m (\u001B[38;5;124m'\u001B[39m\u001B[38;5;124mFunction \u001B[39m\u001B[38;5;124m\"\u001B[39m\u001B[38;5;132;01m{f.__name__}\u001B[39;00m\u001B[38;5;124m\"\u001B[39m\u001B[38;5;124m \u001B[39m\u001B[38;5;124m'\u001B[39m\n\u001B[0;32m   2384\u001B[0m                              \u001B[38;5;124m'\u001B[39m\u001B[38;5;124mexpected a quantitity with unit \u001B[39m\u001B[38;5;124m'\u001B[39m\n\u001B[0;32m   2385\u001B[0m                              \u001B[38;5;124m'\u001B[39m\u001B[38;5;132;01m{unit}\u001B[39;00m\u001B[38;5;124m for argument \u001B[39m\u001B[38;5;124m\"\u001B[39m\u001B[38;5;132;01m{k}\u001B[39;00m\u001B[38;5;124m\"\u001B[39m\u001B[38;5;124m but got \u001B[39m\u001B[38;5;124m'\u001B[39m\n\u001B[0;32m   2386\u001B[0m                              \u001B[38;5;124m'\u001B[39m\u001B[38;5;132;01m{value}\u001B[39;00m\u001B[38;5;124m'\u001B[39m)\u001B[38;5;241m.\u001B[39mformat(f\u001B[38;5;241m=\u001B[39mf, k\u001B[38;5;241m=\u001B[39mk,\n\u001B[0;32m   2387\u001B[0m                                                unit\u001B[38;5;241m=\u001B[39m\u001B[38;5;28mrepr\u001B[39m(au[k]),\n\u001B[0;32m   2388\u001B[0m                                                value\u001B[38;5;241m=\u001B[39mnewkeyset[k])\n\u001B[0;32m   2389\u001B[0m             \u001B[38;5;28;01mraise\u001B[39;00m DimensionMismatchError(error_message,\n\u001B[0;32m   2390\u001B[0m                                          get_dimensions(newkeyset[k]))\n\u001B[1;32m-> 2392\u001B[0m result \u001B[38;5;241m=\u001B[39m \u001B[43mf\u001B[49m\u001B[43m(\u001B[49m\u001B[38;5;241;43m*\u001B[39;49m\u001B[43margs\u001B[49m\u001B[43m,\u001B[49m\u001B[43m \u001B[49m\u001B[38;5;241;43m*\u001B[39;49m\u001B[38;5;241;43m*\u001B[39;49m\u001B[43mkwds\u001B[49m\u001B[43m)\u001B[49m\n\u001B[0;32m   2393\u001B[0m \u001B[38;5;28;01mif\u001B[39;00m \u001B[38;5;124m'\u001B[39m\u001B[38;5;124mresult\u001B[39m\u001B[38;5;124m'\u001B[39m \u001B[38;5;129;01min\u001B[39;00m au:\n\u001B[0;32m   2394\u001B[0m     \u001B[38;5;28;01mif\u001B[39;00m au[\u001B[38;5;124m'\u001B[39m\u001B[38;5;124mresult\u001B[39m\u001B[38;5;124m'\u001B[39m] \u001B[38;5;241m==\u001B[39m \u001B[38;5;28mbool\u001B[39m:\n",
      "File \u001B[1;32mC:\\ProgramData\\Anaconda3\\envs\\stage\\lib\\site-packages\\brian2\\core\\network.py:1012\u001B[0m, in \u001B[0;36mNetwork.run\u001B[1;34m(self, duration, report, report_period, namespace, profile, level)\u001B[0m\n\u001B[0;32m   1009\u001B[0m \u001B[38;5;28;01mif\u001B[39;00m namespace \u001B[38;5;129;01mis\u001B[39;00m \u001B[38;5;28;01mNone\u001B[39;00m:\n\u001B[0;32m   1010\u001B[0m     namespace \u001B[38;5;241m=\u001B[39m get_local_namespace(level\u001B[38;5;241m=\u001B[39mlevel\u001B[38;5;241m+\u001B[39m\u001B[38;5;241m3\u001B[39m)\n\u001B[1;32m-> 1012\u001B[0m \u001B[38;5;28;43mself\u001B[39;49m\u001B[38;5;241;43m.\u001B[39;49m\u001B[43mbefore_run\u001B[49m\u001B[43m(\u001B[49m\u001B[43mnamespace\u001B[49m\u001B[43m)\u001B[49m\n\u001B[0;32m   1014\u001B[0m \u001B[38;5;28;01mif\u001B[39;00m \u001B[38;5;28mlen\u001B[39m(all_objects) \u001B[38;5;241m==\u001B[39m \u001B[38;5;241m0\u001B[39m:\n\u001B[0;32m   1015\u001B[0m     \u001B[38;5;28;01mreturn\u001B[39;00m  \u001B[38;5;66;03m# TODO: raise an error? warning?\u001B[39;00m\n",
      "File \u001B[1;32mC:\\ProgramData\\Anaconda3\\envs\\stage\\lib\\site-packages\\brian2\\core\\base.py:280\u001B[0m, in \u001B[0;36mdevice_override.<locals>.device_override_decorator.<locals>.device_override_decorated_function\u001B[1;34m(*args, **kwds)\u001B[0m\n\u001B[0;32m    278\u001B[0m     \u001B[38;5;28;01mreturn\u001B[39;00m \u001B[38;5;28mgetattr\u001B[39m(curdev, name)(\u001B[38;5;241m*\u001B[39margs, \u001B[38;5;241m*\u001B[39m\u001B[38;5;241m*\u001B[39mkwds)\n\u001B[0;32m    279\u001B[0m \u001B[38;5;28;01melse\u001B[39;00m:\n\u001B[1;32m--> 280\u001B[0m     \u001B[38;5;28;01mreturn\u001B[39;00m \u001B[43mfunc\u001B[49m\u001B[43m(\u001B[49m\u001B[38;5;241;43m*\u001B[39;49m\u001B[43margs\u001B[49m\u001B[43m,\u001B[49m\u001B[43m \u001B[49m\u001B[38;5;241;43m*\u001B[39;49m\u001B[38;5;241;43m*\u001B[39;49m\u001B[43mkwds\u001B[49m\u001B[43m)\u001B[49m\n",
      "File \u001B[1;32mC:\\ProgramData\\Anaconda3\\envs\\stage\\lib\\site-packages\\brian2\\core\\network.py:903\u001B[0m, in \u001B[0;36mNetwork.before_run\u001B[1;34m(self, run_namespace)\u001B[0m\n\u001B[0;32m    901\u001B[0m             obj\u001B[38;5;241m.\u001B[39mbefore_run(run_namespace)\n\u001B[0;32m    902\u001B[0m         \u001B[38;5;28;01mexcept\u001B[39;00m \u001B[38;5;167;01mException\u001B[39;00m \u001B[38;5;28;01mas\u001B[39;00m ex:\n\u001B[1;32m--> 903\u001B[0m             \u001B[38;5;28;01mraise\u001B[39;00m brian_object_exception(\u001B[38;5;124m\"\u001B[39m\u001B[38;5;124mAn error occurred when preparing an object.\u001B[39m\u001B[38;5;124m\"\u001B[39m, obj, ex)\n\u001B[0;32m    905\u001B[0m \u001B[38;5;66;03m# Check that no object has been run as part of another network before\u001B[39;00m\n\u001B[0;32m    906\u001B[0m \u001B[38;5;28;01mfor\u001B[39;00m obj \u001B[38;5;129;01min\u001B[39;00m all_objects:\n",
      "\u001B[1;31mBrianObjectException\u001B[0m: Original error and traceback:\nTraceback (most recent call last):\n  File \"C:\\ProgramData\\Anaconda3\\envs\\stage\\lib\\site-packages\\brian2\\core\\network.py\", line 901, in before_run\n    obj.before_run(run_namespace)\n  File \"C:\\ProgramData\\Anaconda3\\envs\\stage\\lib\\site-packages\\brian2\\core\\base.py\", line 280, in device_override_decorated_function\n    return func(*args, **kwds)\n  File \"C:\\ProgramData\\Anaconda3\\envs\\stage\\lib\\site-packages\\brian2\\synapses\\synapses.py\", line 319, in before_run\n    CodeRunner.before_run(self, run_namespace)\n  File \"C:\\ProgramData\\Anaconda3\\envs\\stage\\lib\\site-packages\\brian2\\groups\\group.py\", line 1122, in before_run\n    self.codeobj = create_runner_codeobj(group=self.group,\n  File \"C:\\ProgramData\\Anaconda3\\envs\\stage\\lib\\site-packages\\brian2\\codegen\\codeobject.py\", line 321, in create_runner_codeobj\n    variables = group.resolve_all(identifiers | set(needed_variables) | set(template_variables),\n  File \"C:\\ProgramData\\Anaconda3\\envs\\stage\\lib\\site-packages\\brian2\\groups\\group.py\", line 741, in resolve_all\n    resolved[identifier] = self._resolve(identifier,\n  File \"C:\\ProgramData\\Anaconda3\\envs\\stage\\lib\\site-packages\\brian2\\groups\\group.py\", line 701, in _resolve\n    return self._resolve_external(identifier, run_namespace=run_namespace)\n  File \"C:\\ProgramData\\Anaconda3\\envs\\stage\\lib\\site-packages\\brian2\\groups\\group.py\", line 825, in _resolve_external\n    raise KeyError(error_msg)\nKeyError: 'The identifier \"w1\" could not be resolved.'\n\nError encountered with object named \"synapses_pre\".\nObject was created here (most recent call only, full details in debug log):\n  File \"C:\\Users\\laure\\AppData\\Local\\Temp\\ipykernel_16532\\3055027482.py\", line 21, in <cell line: 21>\n    syn2 = Synapses(IN_neuron, PC_neuron, on_pre='''v_post += -w1*mV''', delay= delay*ms, dt=p.dt * ms)\n\nAn error occurred when preparing an object. KeyError: 'The identifier \"w1\" could not be resolved.'\n(See above for original error message and traceback.)"
     ]
    }
   ],
   "source": [
    "start_scope()\n",
    "#Initialising the neuron classes\n",
    "PC = Barrel_PC(p.dt, inj_current)\n",
    "IN = Barrel_IN(p.dt, inj_current)\n",
    "#Getting the neuron groups\n",
    "PC_neuron = PC.getNeurongroup()\n",
    "IN_neuron = IN.getNeurongroup()\n",
    "\n",
    "net2 = Network(PC_neuron,\n",
    "               IN_neuron)\n",
    "\n",
    "PC_M = StateMonitor(PC_neuron, 'v', record=True)\n",
    "PC_S = SpikeMonitor(PC_neuron, 'v', record = True)\n",
    "IN_M = StateMonitor(IN_neuron, 'v', record=True)\n",
    "IN_S = SpikeMonitor(PC_neuron, 'v', record = True)\n",
    "\n",
    "net2.add(PC_M, IN_M, PC_S, IN_S)\n",
    "#getting all the parameters for in the synapse\n",
    "delay = 0.6\n",
    "\n",
    "syn2 = Synapses(IN_neuron, PC_neuron, on_pre='''v_post += -w1*mV''', delay= delay*ms, dt=p.dt * ms)\n",
    "syn2.connect(i=0, j=1)\n",
    "net2.add(syn2)\n",
    "\n",
    "net2.run(p.duration*ms)"
   ],
   "metadata": {
    "collapsed": false
   }
  },
  {
   "cell_type": "code",
   "execution_count": null,
   "outputs": [],
   "source": [
    "spiketrain = make_spiketrain(PC_S)"
   ],
   "metadata": {
    "collapsed": false
   }
  },
  {
   "cell_type": "code",
   "execution_count": null,
   "outputs": [],
   "source": [
    "size(spiketrain)"
   ],
   "metadata": {
    "collapsed": false
   }
  },
  {
   "cell_type": "code",
   "execution_count": null,
   "outputs": [],
   "source": [],
   "metadata": {
    "collapsed": false
   }
  }
 ],
 "metadata": {
  "kernelspec": {
   "display_name": "Python 3",
   "language": "python",
   "name": "python3"
  },
  "language_info": {
   "codemirror_mode": {
    "name": "ipython",
    "version": 2
   },
   "file_extension": ".py",
   "mimetype": "text/x-python",
   "name": "python",
   "nbconvert_exporter": "python",
   "pygments_lexer": "ipython2",
   "version": "2.7.6"
  }
 },
 "nbformat": 4,
 "nbformat_minor": 0
}
